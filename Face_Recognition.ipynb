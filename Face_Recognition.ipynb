{
 "cells": [
  {
   "cell_type": "markdown",
   "id": "2eac2a0c",
   "metadata": {},
   "source": [
    "# Face Recognition"
   ]
  },
  {
   "cell_type": "code",
   "execution_count": null,
   "id": "daf414e0",
   "metadata": {},
   "outputs": [],
   "source": [
    "#############################################################################\n",
    "######################## Importing Basic Library ############################\n",
    "#############################################################################\n",
    "\n",
    "import cv2\n",
    "import numpy as np\n",
    "import face_recognition\n",
    "\n",
    "#############################################################################\n",
    "####### Uploading Train/Test Image and converting into RGB from BGR #########\n",
    "#############################################################################\n",
    "\n",
    "imgTrain = face_recognition.load_image_file('elon-musk.jpg')\n",
    "imgTrain = cv2.cvtColor(imgTrain, cv2.COLOR_BGR2RGB)\n",
    "\n",
    "imgTest = face_recognition.load_image_file('elon-test.jpg')\n",
    "imgTest = cv2.cvtColor(imgTest, cv2.COLOR_BGR2RGB)\n",
    "\n",
    "#############################################################################\n",
    "############### Finding Face Location & Face Encoding of Image ##############\n",
    "#############################################################################\n",
    "\n",
    "faceLoc = face_recognition.face_locations(imgTrain)[0]\n",
    "encodeElon = face_recognition.face_encodings(imgTrain)[0]\n",
    "cv2.rectangle(imgTrain, (faceLoc[3],faceLoc[0]) , (faceLoc[1],faceLoc[2]) ,(255,0,255),2)\n",
    "\n",
    "\n",
    "faceLocTest = face_recognition.face_locations(imgTest)[0]\n",
    "encodeTest = face_recognition.face_encodings(imgTest)[0]\n",
    "cv2.rectangle(imgTest, (faceLocTest[3],faceLocTest[0]) , (faceLocTest[1],faceLocTest[2]) ,(255,0,255),2)\n",
    "\n",
    "#############################################################################\n",
    "########## Comparing Faces and Calculating face Distance of Image ###########\n",
    "#############################################################################\n",
    "\n",
    "results = face_recognition.compare_faces([encodeElon],encodeTest)\n",
    "faceDis = face_recognition.face_distance([encodeElon],encodeTest)\n",
    "print(results,faceDis)\n",
    "\n",
    "#############################################################################\n",
    "############### Display results & faceDis around the image ##################\n",
    "#############################################################################\n",
    "\n",
    "cv2.putText(imgTest, f'{results} {np.round(faceDis[0],2)}',(50,50),cv2.FONT_HERSHEY_COMPLEX,1,(0,0,255),2)\n",
    "\n",
    "#############################################################################\n",
    "#################### Display Train and Test Images ##########################\n",
    "#############################################################################\n",
    "\n",
    "cv2.imshow('elon-musk',imgTrain)\n",
    "cv2.imshow('elon-test',imgTest)\n",
    "\n",
    "cv2.waitKey(0)"
   ]
  }
 ],
 "metadata": {
  "kernelspec": {
   "display_name": "Python 3",
   "language": "python",
   "name": "python3"
  },
  "language_info": {
   "codemirror_mode": {
    "name": "ipython",
    "version": 3
   },
   "file_extension": ".py",
   "mimetype": "text/x-python",
   "name": "python",
   "nbconvert_exporter": "python",
   "pygments_lexer": "ipython3",
   "version": "3.8.8"
  }
 },
 "nbformat": 4,
 "nbformat_minor": 5
}
